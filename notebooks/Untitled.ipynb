{
 "cells": [
  {
   "cell_type": "code",
   "execution_count": 6,
   "id": "02e9b6ff-2a8a-4a8d-ba16-4a5bdcf2d843",
   "metadata": {},
   "outputs": [
    {
     "name": "stdout",
     "output_type": "stream",
     "text": [
      "Using: C:\\Users\\HP\\Desktop\\projects 2025\\Binary Classification with a Bank Dataset\\data\n",
      "{'train': (750000, 18), 'test': (250000, 17)}\n"
     ]
    }
   ],
   "source": [
    "from pathlib import Path\n",
    "import pandas as pd\n",
    "\n",
    "project_root = Path(r\"C:\\Users\\HP\\Desktop\\projects 2025\\Binary Classification with a Bank Dataset\")\n",
    "data_dir = project_root / \"data\"\n",
    "\n",
    "train = pd.read_csv(data_dir / \"train_processed.csv\")\n",
    "test = pd.read_csv(data_dir / \"test_processed.csv\")\n",
    "sample = pd.read_csv(data_dir / \"sample_submission.csv\")\n",
    "\n",
    "print(\"Using:\", data_dir)\n",
    "print({\"train\": train.shape, \"test\": test.shape})"
   ]
  },
  {
   "cell_type": "code",
   "execution_count": 7,
   "id": "f62e1a2f-1549-4a6d-b0c6-f20490ba8ea3",
   "metadata": {},
   "outputs": [
    {
     "name": "stdout",
     "output_type": "stream",
     "text": [
      "<class 'pandas.core.frame.DataFrame'>\n",
      "RangeIndex: 750000 entries, 0 to 749999\n",
      "Data columns (total 18 columns):\n",
      " #   Column     Non-Null Count   Dtype  \n",
      "---  ------     --------------   -----  \n",
      " 0   id         750000 non-null  float64\n",
      " 1   age        750000 non-null  float64\n",
      " 2   job        750000 non-null  float64\n",
      " 3   marital    750000 non-null  float64\n",
      " 4   education  750000 non-null  float64\n",
      " 5   default    750000 non-null  float64\n",
      " 6   balance    750000 non-null  float64\n",
      " 7   housing    750000 non-null  float64\n",
      " 8   loan       750000 non-null  float64\n",
      " 9   contact    750000 non-null  float64\n",
      " 10  day        750000 non-null  float64\n",
      " 11  month      750000 non-null  float64\n",
      " 12  duration   750000 non-null  float64\n",
      " 13  campaign   750000 non-null  float64\n",
      " 14  pdays      750000 non-null  float64\n",
      " 15  previous   750000 non-null  float64\n",
      " 16  poutcome   750000 non-null  float64\n",
      " 17  y          750000 non-null  int64  \n",
      "dtypes: float64(17), int64(1)\n",
      "memory usage: 103.0 MB\n",
      "None\n",
      "Top missing:\n",
      " id           0\n",
      "age          0\n",
      "poutcome     0\n",
      "previous     0\n",
      "pdays        0\n",
      "campaign     0\n",
      "duration     0\n",
      "month        0\n",
      "day          0\n",
      "contact      0\n",
      "loan         0\n",
      "housing      0\n",
      "balance      0\n",
      "default      0\n",
      "education    0\n",
      "dtype: int64\n",
      "Target balance: {0: 0.8793, 1: 0.1207}\n"
     ]
    }
   ],
   "source": [
    "print(train.info())\n",
    "missing = train.isnull().sum().sort_values(ascending=False)\n",
    "print(\"Top missing:\\n\", missing.head(15))\n",
    "if 'y' in train.columns:\n",
    "    print(\"Target balance:\", train['y'].value_counts(normalize=True).round(4).to_dict())"
   ]
  },
  {
   "cell_type": "code",
   "execution_count": 8,
   "id": "ec17e103-ee13-45e1-9d97-35424cf08d92",
   "metadata": {},
   "outputs": [
    {
     "name": "stdout",
     "output_type": "stream",
     "text": [
      "Numeric: 18 Categorical: 0\n",
      "Only in train: ['y']\n",
      "Only in test: []\n"
     ]
    }
   ],
   "source": [
    "import numpy as np\n",
    "num_cols = train.select_dtypes(include=[np.number]).columns.tolist()\n",
    "cat_cols = train.select_dtypes(exclude=[np.number]).columns.tolist()\n",
    "print(\"Numeric:\", len(num_cols), \"Categorical:\", len(cat_cols))\n",
    "print(\"Only in train:\", sorted(set(train.columns)-set(test.columns)))\n",
    "print(\"Only in test:\", sorted(set(test.columns)-set(train.columns)))"
   ]
  },
  {
   "cell_type": "code",
   "execution_count": 9,
   "id": "d3550f75-94d8-4939-b839-88ab606877f3",
   "metadata": {},
   "outputs": [
    {
     "name": "stdout",
     "output_type": "stream",
     "text": [
      "Most skewed (top 10):\n",
      " default      7.442308\n",
      "loan         2.075377\n",
      "duration     1.223740\n",
      "campaign     1.188024\n",
      "balance      0.945033\n",
      "contact      0.722495\n",
      "age          0.498202\n",
      "job          0.273263\n",
      "education    0.131906\n",
      "day          0.054014\n",
      "dtype: float64\n"
     ]
    },
    {
     "ename": "ValueError",
     "evalue": "Boolean array expected for the condition, not float64",
     "output_type": "error",
     "traceback": [
      "\u001b[31m---------------------------------------------------------------------------\u001b[39m",
      "\u001b[31mValueError\u001b[39m                                Traceback (most recent call last)",
      "\u001b[32m~\\AppData\\Local\\Temp\\ipykernel_13176\\4153136460.py\u001b[39m in \u001b[36m?\u001b[39m\u001b[34m()\u001b[39m\n\u001b[32m      1\u001b[39m skew = train[num_cols].drop(columns=[\u001b[33m'y'\u001b[39m], errors=\u001b[33m'ignore'\u001b[39m).skew(numeric_only=\u001b[38;5;28;01mTrue\u001b[39;00m).sort_values(ascending=\u001b[38;5;28;01mFalse\u001b[39;00m)\n\u001b[32m      2\u001b[39m print(\u001b[33m\"Most skewed (top 10):\\n\"\u001b[39m, skew.head(\u001b[32m10\u001b[39m))\n\u001b[32m      3\u001b[39m \n\u001b[32m      4\u001b[39m corr = train[num_cols].corr(numeric_only=\u001b[38;5;28;01mTrue\u001b[39;00m).abs()\n\u001b[32m----> \u001b[39m\u001b[32m5\u001b[39m pairs = corr.where(np.triu(np.ones(corr.shape), \u001b[32m1\u001b[39m)).stack().sort_values(ascending=\u001b[38;5;28;01mFalse\u001b[39;00m)\n\u001b[32m      6\u001b[39m print(\u001b[33m\"Highly correlated pairs (>0.9):\\n\"\u001b[39m, pairs[pairs > \u001b[32m0.9\u001b[39m].head(\u001b[32m15\u001b[39m))\n",
      "\u001b[32mC:\\Python313\\Lib\\site-packages\\pandas\\core\\generic.py\u001b[39m in \u001b[36m?\u001b[39m\u001b[34m(self, cond, other, inplace, axis, level)\u001b[39m\n\u001b[32m  10999\u001b[39m                         stacklevel=\u001b[32m2\u001b[39m,\n\u001b[32m  11000\u001b[39m                     )\n\u001b[32m  11001\u001b[39m \n\u001b[32m  11002\u001b[39m         other = common.apply_if_callable(other, self)\n\u001b[32m> \u001b[39m\u001b[32m11003\u001b[39m         \u001b[38;5;28;01mreturn\u001b[39;00m self._where(cond, other, inplace, axis, level)\n",
      "\u001b[32mC:\\Python313\\Lib\\site-packages\\pandas\\core\\generic.py\u001b[39m in \u001b[36m?\u001b[39m\u001b[34m(self, cond, other, inplace, axis, level, warn)\u001b[39m\n\u001b[32m  10688\u001b[39m                     \u001b[38;5;28;01mraise\u001b[39;00m ValueError(msg.format(dtype=cond.dtype))\n\u001b[32m  10689\u001b[39m             \u001b[38;5;28;01melse\u001b[39;00m:\n\u001b[32m  10690\u001b[39m                 \u001b[38;5;28;01mfor\u001b[39;00m _dt \u001b[38;5;28;01min\u001b[39;00m cond.dtypes:\n\u001b[32m  10691\u001b[39m                     \u001b[38;5;28;01mif\u001b[39;00m \u001b[38;5;28;01mnot\u001b[39;00m is_bool_dtype(_dt):\n\u001b[32m> \u001b[39m\u001b[32m10692\u001b[39m                         \u001b[38;5;28;01mraise\u001b[39;00m ValueError(msg.format(dtype=_dt))\n\u001b[32m  10693\u001b[39m                 \u001b[38;5;28;01mif\u001b[39;00m cond._mgr.any_extension_types:\n\u001b[32m  10694\u001b[39m                     \u001b[38;5;66;03m# GH51574: avoid object ndarray conversion later on\u001b[39;00m\n\u001b[32m  10695\u001b[39m                     cond = cond._constructor(\n",
      "\u001b[31mValueError\u001b[39m: Boolean array expected for the condition, not float64"
     ]
    }
   ],
   "source": [
    "skew = train[num_cols].drop(columns=['y'], errors='ignore').skew(numeric_only=True).sort_values(ascending=False)\n",
    "print(\"Most skewed (top 10):\\n\", skew.head(10))\n",
    "\n",
    "corr = train[num_cols].corr(numeric_only=True).abs()\n",
    "pairs = corr.where(np.triu(np.ones(corr.shape), 1)).stack().sort_values(ascending=False)\n",
    "print(\"Highly correlated pairs (>0.9):\\n\", pairs[pairs > 0.9].head(15))"
   ]
  },
  {
   "cell_type": "code",
   "execution_count": 10,
   "id": "d75eedff-1395-42df-aacd-ac56cc3a3567",
   "metadata": {},
   "outputs": [
    {
     "name": "stdout",
     "output_type": "stream",
     "text": [
      "Highly correlated pairs (>0.9):\n",
      "Series([], dtype: float64)\n"
     ]
    }
   ],
   "source": [
    "corr = train[num_cols].corr(numeric_only=True).abs()\n",
    "mask = np.triu(np.ones_like(corr, dtype=bool), k=1)\n",
    "pairs = corr.where(mask).stack().sort_values(ascending=False)\n",
    "print(\"Highly correlated pairs (>0.9):\")\n",
    "print(pairs[pairs > 0.9].head(15))"
   ]
  },
  {
   "cell_type": "code",
   "execution_count": 11,
   "id": "008b6268-5e78-44a9-9064-d4c78b5d6581",
   "metadata": {},
   "outputs": [
    {
     "name": "stdout",
     "output_type": "stream",
     "text": [
      "Series([], dtype: float64)\n"
     ]
    }
   ],
   "source": [
    "corr = train[num_cols].corr(numeric_only=True).abs()\n",
    "ix = np.triu_indices_from(corr, k=1)\n",
    "pairs = pd.Series(corr.values[ix], index=[(corr.index[i], corr.columns[j]) for i, j in zip(*ix)])\n",
    "print(pairs[pairs > 0.9].sort_values(ascending=False).head(15))"
   ]
  },
  {
   "cell_type": "code",
   "execution_count": null,
   "id": "ec9c0ce7-4392-4232-8d2d-8a256a69e9ec",
   "metadata": {},
   "outputs": [],
   "source": []
  }
 ],
 "metadata": {
  "kernelspec": {
   "display_name": "Python 3 (ipykernel)",
   "language": "python",
   "name": "python3"
  },
  "language_info": {
   "codemirror_mode": {
    "name": "ipython",
    "version": 3
   },
   "file_extension": ".py",
   "mimetype": "text/x-python",
   "name": "python",
   "nbconvert_exporter": "python",
   "pygments_lexer": "ipython3",
   "version": "3.13.5"
  }
 },
 "nbformat": 4,
 "nbformat_minor": 5
}
